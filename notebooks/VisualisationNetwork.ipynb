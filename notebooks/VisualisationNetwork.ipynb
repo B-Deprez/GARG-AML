{
 "cells": [
  {
   "cell_type": "code",
   "execution_count": 1,
   "id": "71ee42d6",
   "metadata": {},
   "outputs": [],
   "source": [
    "import igraph as ig\n",
    "import pandas as pd"
   ]
  },
  {
   "cell_type": "code",
   "execution_count": null,
   "id": "f2ca19b9",
   "metadata": {},
   "outputs": [],
   "source": [
    "networks =[\n",
    "    'Barabasi-Albert_100_2_0_3',\n",
    "    'Erdos-Renyi_100_0_0.01_3',\n",
    "    'Watts-Strogatz_100_2_0.01_3',\n",
    "]"
   ]
  },
  {
   "cell_type": "code",
   "execution_count": 17,
   "id": "477f5c1e",
   "metadata": {},
   "outputs": [],
   "source": [
    "networks =[\n",
    "    'Barabasi-Albert_100_2_0_3',\n",
    "    'Erdos-Renyi_100_0_0.01_3',\n",
    "    'Watts-Strogatz_100_2_0.01_3',\n",
    "]\n",
    "\n",
    "for network in networks:\n",
    "    nodes_df=pd.read_csv('../data/label_data_synthetic_'+network+'.csv')\n",
    "    edges_df=pd.read_csv('../data/edge_data_synthetic_'+network+'.csv')\n",
    "    graph = ig.Graph()\n",
    "    graph.add_vertices(nodes_df.shape[0])\n",
    "    graph.add_edges(edges_df.values)\n",
    "\n",
    "    visual_style = {}\n",
    "    visual_style[\"vertex_size\"] = 8\n",
    "    visual_style[\"edge_color\"] = \"gray\"\n",
    "    visual_style[\"edge_width\"] = 0.7\n",
    "\n",
    "    # Change colours depending on label type (separate, new and existing)\n",
    "    graph.vs['color'] = \"gray\"\n",
    "    for i in range(len(graph.vs)):\n",
    "        info_node = nodes_df.loc[i]\n",
    "        if info_node['separate']:\n",
    "            graph.vs[i]['color'] = \"blue\"\n",
    "        elif info_node['new_mules']:\n",
    "            graph.vs[i]['color'] = \"green\"\n",
    "        elif info_node['existing_mules']:\n",
    "            graph.vs[i]['color'] = \"red\"\n",
    "        visual_style[\"vertex_color\"] = graph.vs['color']\n",
    "\n",
    "    ig.plot(graph, **visual_style, target='../data/graph_synthetic_'+network+'.pdf')"
   ]
  },
  {
   "cell_type": "code",
   "execution_count": 8,
   "id": "6c5082dd",
   "metadata": {},
   "outputs": [],
   "source": [
    "import pandas as pd\n",
    "import igraph as ig\n",
    "import matplotlib.pyplot as plt\n",
    "\n",
    "networks = [\n",
    "    'Barabasi-Albert_100_2_0_3',\n",
    "    'Erdos-Renyi_100_0_0.01_3',\n",
    "    'Watts-Strogatz_100_2_0.01_3',\n",
    "]\n",
    "\n",
    "fig, axes = plt.subplots(1, 3, figsize=(18, 6))\n",
    "\n",
    "for idx, network in enumerate(networks):\n",
    "    nodes_df = pd.read_csv(f'../data/label_data_synthetic_{network}.csv')\n",
    "    edges_df = pd.read_csv(f'../data/edge_data_synthetic_{network}.csv')\n",
    "    \n",
    "    graph = ig.Graph()\n",
    "    graph.add_vertices(nodes_df.shape[0])\n",
    "    graph.add_edges(edges_df.values)\n",
    "\n",
    "    # Set node colors\n",
    "    colors = []\n",
    "    for i in range(len(graph.vs)):\n",
    "        info_node = nodes_df.loc[i]\n",
    "        if info_node['separate']:\n",
    "            colors.append(\"green\")\n",
    "        elif info_node['new_mules']:\n",
    "            colors.append(\"orange\")\n",
    "        elif info_node['existing_mules']:\n",
    "            colors.append(\"red\")\n",
    "        else:\n",
    "            colors.append(\"gray\")\n",
    "    graph.vs['color'] = colors\n",
    "\n",
    "    # Set visual style\n",
    "    visual_style = {\n",
    "        \"vertex_size\": 8,\n",
    "        \"vertex_color\": colors,\n",
    "        \"edge_width\": 0.9,\n",
    "    }\n",
    "\n",
    "    layout = graph.layout(\"fr\")  # Fruchterman-Reingold layout\n",
    "    ax = axes[idx]\n",
    "    ax.set_title(network.split(\"_\")[0], fontsize=15)\n",
    "    ax.set_facecolor('0.97')\n",
    "    ig.plot(graph, target=ax, layout=layout, **visual_style)\n",
    "\n",
    "# Save the entire figure to a single PDF\n",
    "plt.tight_layout()\n",
    "plt.savefig(\"../data/combined_synthetic_networks.pdf\", format=\"pdf\")\n",
    "plt.close()\n"
   ]
  },
  {
   "cell_type": "code",
   "execution_count": null,
   "id": "c813c9fb",
   "metadata": {},
   "outputs": [],
   "source": []
  }
 ],
 "metadata": {
  "kernelspec": {
   "display_name": "base",
   "language": "python",
   "name": "python3"
  },
  "language_info": {
   "codemirror_mode": {
    "name": "ipython",
    "version": 3
   },
   "file_extension": ".py",
   "mimetype": "text/x-python",
   "name": "python",
   "nbconvert_exporter": "python",
   "pygments_lexer": "ipython3",
   "version": "3.11.0"
  }
 },
 "nbformat": 4,
 "nbformat_minor": 5
}
