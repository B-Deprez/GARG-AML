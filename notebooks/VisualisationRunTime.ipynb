{
 "cells": [
  {
   "cell_type": "markdown",
   "metadata": {},
   "source": [
    "# Visualisation Run Time"
   ]
  },
  {
   "cell_type": "markdown",
   "metadata": {},
   "source": [
    "This notebook will read the txt files containing the run time of all models over the different synthetic data sets. The results will be structured and visualised to be included in the research paper. \n",
    "\n",
    "The results are not finalised, as some experiments are still running. "
   ]
  },
  {
   "cell_type": "code",
   "execution_count": null,
   "metadata": {},
   "outputs": [],
   "source": [
    "import pandas as pd\n",
    "import matplotlib.pyplot as plt"
   ]
  },
  {
   "cell_type": "code",
   "execution_count": null,
   "metadata": {},
   "outputs": [],
   "source": [
    "models = [\n",
    "    'flowscope',\n",
    "    'autoaudit', \n",
    "    'gargaml_undir', \n",
    "    'gargaml_dir'\n",
    "    ]"
   ]
  },
  {
   "cell_type": "code",
   "execution_count": null,
   "metadata": {},
   "outputs": [],
   "source": [
    "model_time = {}\n",
    "for model in models:\n",
    "    # read file line by line, and store the time in a dictionary\n",
    "    with open(f'../results/time_{model}.txt', 'r') as f:\n",
    "        line = f.readline()\n",
    "        time_dict = {}\n",
    "        while line:\n",
    "            line = line.split()\n",
    "            time_dict[line[0]] = float(line[-1])\n",
    "            line = f.readline()\n",
    "    model_time[model] = time_dict"
   ]
  },
  {
   "cell_type": "code",
   "execution_count": null,
   "metadata": {},
   "outputs": [],
   "source": [
    "model_time"
   ]
  },
  {
   "cell_type": "code",
   "execution_count": null,
   "metadata": {},
   "outputs": [],
   "source": [
    "methods_list = []\n",
    "length_list = []\n",
    "time_list = []\n",
    "for key, value in model_time.items():\n",
    "    for k, v in value.items():\n",
    "        methods_list.append(key)\n",
    "        split_list = k.split('_')\n",
    "        try:\n",
    "            length_list.append(int(split_list[2]))\n",
    "        except:\n",
    "            length_list.append(split_list[0])\n",
    "        time_list.append(v)\n",
    "\n",
    "df = pd.DataFrame({'method': methods_list, 'length': length_list, 'time': time_list})"
   ]
  },
  {
   "cell_type": "code",
   "execution_count": null,
   "metadata": {},
   "outputs": [],
   "source": [
    "df"
   ]
  },
  {
   "cell_type": "code",
   "execution_count": null,
   "metadata": {},
   "outputs": [],
   "source": [
    "import pandas as pd\n",
    "import seaborn as sns\n",
    "import matplotlib.pyplot as plt\n",
    "\n",
    "# Optional: Define the order of observation sizes\n",
    "order = [100, 10000, 100000]\n",
    "\n",
    "# Create the boxplot\n",
    "plt.figure(figsize=(8, 6))\n",
    "# Create the boxplot\n",
    "ax = sns.boxplot(x='length', y='time', hue='method', data=df, order=order)\n",
    "ax.set_yscale('log')\n",
    "plt.xlabel('Number of Observations')\n",
    "plt.ylabel('Time (seconds)')\n",
    "plt.title('Calculation Time by Method and Network Size')\n",
    "plt.grid(True,which=\"both\",ls=\"--\",c='gray', alpha=0.3) \n",
    "# Now get the handles and labels that Seaborn already created:\n",
    "#handles, labels = ax.get_legend_handles_labels()\n",
    "\n",
    "# re‐draw the legend at the desired location\n",
    "#ax.legend(handles=handles,\n",
    "#          labels=['FlowScope','AutoAudit','GARG-AML'],\n",
    "#          title='Method',\n",
    "#          loc='upper left')\n",
    "plt.savefig('../results/time_boxplot_log.pdf')\n"
   ]
  },
  {
   "cell_type": "code",
   "execution_count": null,
   "metadata": {},
   "outputs": [],
   "source": [
    "import pandas as pd\n",
    "import seaborn as sns\n",
    "import matplotlib.pyplot as plt\n",
    "\n",
    "# Optional: Define the order of observation sizes\n",
    "order = [100, 10000, 100000]\n",
    "\n",
    "# Create the boxplot\n",
    "plt.figure(figsize=(8, 6))\n",
    "# Create the boxplot\n",
    "ax = sns.boxplot(x='length', y='time', hue='method', data=df, order=order)\n",
    "\n",
    "plt.xlabel('Number of Observations')\n",
    "plt.ylabel('Time (seconds)')\n",
    "plt.title('Calculation Time by Method and Network Size - Excluding Out-of-Time Values')\n",
    "plt.grid(True,which=\"both\",ls=\"--\",c='gray', alpha=0.3)  \n",
    "#handles, labels = ax.get_legend_handles_labels()\n",
    "\n",
    "# re‐draw the legend at the desired location\n",
    "#ax.legend(handles=handles,\n",
    "#          labels=['FlowScope','AutoAudit','GARG-AML'],\n",
    "#          title='Method',\n",
    "#          loc='upper left')\n",
    "plt.savefig('../results/time_boxplot_norm.pdf')"
   ]
  },
  {
   "cell_type": "code",
   "execution_count": null,
   "metadata": {},
   "outputs": [],
   "source": [
    "import pandas as pd\n",
    "import seaborn as sns\n",
    "import matplotlib.pyplot as plt\n",
    "\n",
    "# Optional: Define the order of observation sizes\n",
    "order = [100, 10000, 100000]\n",
    "\n",
    "# Create the boxplot\n",
    "plt.figure(figsize=(8, 6))\n",
    "# Create the boxplot\n",
    "ax = sns.boxplot(x='length', y='time', hue='method', data=df, order=order)\n",
    "\n",
    "plt.xlabel('Number of Observations')\n",
    "plt.ylim(0, 1750)\n",
    "plt.ylabel('Time (seconds)')\n",
    "plt.title('Calculation Time by Method and Network Size - Excluding Out-of-Time Values')\n",
    "plt.grid(True,which=\"both\",ls=\"--\",c='gray', alpha=0.3)  \n",
    "plt.savefig('../results/time_boxplot_norm_1750.pdf')\n"
   ]
  },
  {
   "cell_type": "code",
   "execution_count": null,
   "metadata": {},
   "outputs": [],
   "source": [
    "import pandas as pd\n",
    "import seaborn as sns\n",
    "import matplotlib.pyplot as plt\n",
    "\n",
    "# Optional: Define the order of observation sizes\n",
    "order = [100, 10000, 100000]\n",
    "\n",
    "# Create the boxplot\n",
    "plt.figure(figsize=(8, 6))\n",
    "# Create the boxplot\n",
    "ax = sns.boxplot(x='length', y='time', hue='method', data=df, order=order)\n",
    "\n",
    "plt.xlabel('Number of Observations')\n",
    "plt.ylim(0, 750)\n",
    "plt.ylabel('Time (seconds)')\n",
    "plt.title('Calculation Time by Method and Network Size - Excluding Out-of-Time Values')\n",
    "plt.grid(True,which=\"both\",ls=\"--\",c='gray', alpha=0.3)  \n",
    "plt.savefig('../results/time_boxplot_norm_750.pdf')"
   ]
  },
  {
   "cell_type": "markdown",
   "metadata": {},
   "source": [
    "# IBM Data"
   ]
  },
  {
   "cell_type": "code",
   "execution_count": null,
   "metadata": {},
   "outputs": [],
   "source": [
    "import pandas as pd\n",
    "import seaborn as sns\n",
    "import matplotlib.pyplot as plt\n",
    "\n",
    "# Optional: Define the order of observation sizes\n",
    "order = ['HI-Small', 'LI-Large']\n",
    "\n",
    "custom_palette = {\n",
    "    'flowscope': 'tab:blue',\n",
    "    'gargaml_undir': 'tab:green',\n",
    "    'gargaml_dir': 'tab:red'\n",
    "}\n",
    "\n",
    "# Create the boxplot\n",
    "plt.figure(figsize=(8, 6))\n",
    "# Create the boxplot\n",
    "ax = sns.barplot(\n",
    "    x='length', \n",
    "    y='time', \n",
    "    hue='method', \n",
    "    data=df[df['method']!='autoaudit'], \n",
    "    order=order,\n",
    "    palette=custom_palette,\n",
    "    edgecolor='black',\n",
    "    )\n",
    "#ax.set_yscale('log')\n",
    "plt.xlabel('Data Set')\n",
    "plt.ylabel('Time (seconds)')\n",
    "#ax.set_ylim(bottom=1)\n",
    "plt.title('Calculation Time by Method and Network')\n",
    "plt.grid(True,which=\"both\",ls=\"--\",c='gray', alpha=0.3) \n",
    "\n",
    "plt.savefig('../results/time_boxplot_ibm.pdf')\n"
   ]
  },
  {
   "cell_type": "code",
   "execution_count": null,
   "metadata": {},
   "outputs": [],
   "source": []
  }
 ],
 "metadata": {
  "kernelspec": {
   "display_name": "base",
   "language": "python",
   "name": "python3"
  },
  "language_info": {
   "codemirror_mode": {
    "name": "ipython",
    "version": 3
   },
   "file_extension": ".py",
   "mimetype": "text/x-python",
   "name": "python",
   "nbconvert_exporter": "python",
   "pygments_lexer": "ipython3",
   "version": "3.11.0"
  }
 },
 "nbformat": 4,
 "nbformat_minor": 2
}
