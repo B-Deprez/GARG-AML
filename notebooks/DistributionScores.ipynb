{
 "cells": [
  {
   "cell_type": "markdown",
   "metadata": {},
   "source": [
    "# Distribution Scores\n",
    "This notebook looks at the distribution of the scores depending on the label. This is done using a plot, the divergence measure, and the lift score. "
   ]
  },
  {
   "cell_type": "code",
   "execution_count": null,
   "metadata": {},
   "outputs": [],
   "source": [
    "# LOAD MODULES\n",
    "# Standard library\n",
    "import os\n",
    "import sys\n",
    "\n",
    "# Third party\n",
    "from tqdm import tqdm\n",
    "\n",
    "# NOTE: Your script is not in the root directory. We must hence change the system path\n",
    "DIR = \"../\"\n",
    "os.chdir(DIR)\n",
    "sys.path.append(DIR)"
   ]
  },
  {
   "cell_type": "code",
   "execution_count": null,
   "metadata": {},
   "outputs": [],
   "source": [
    "from src.data.pattern_construction import define_ML_labels, summarise_ML_labels\n",
    "from src.methods.gargaml_scores import define_gargaml_scores\n",
    "import pandas as pd"
   ]
  },
  {
   "cell_type": "code",
   "execution_count": null,
   "metadata": {},
   "outputs": [],
   "source": [
    "dataset = \"HI-Small\"  \n",
    "directed = False\n",
    "score_type = \"basic\" # basic or weighted_average\n",
    "\n",
    "str_directed = \"directed\" if directed else \"undirected\"\n",
    "results_df_measures = pd.read_csv(\"results/\"+dataset+\"_GARGAML_\"+str_directed+\".csv\")\n",
    "\n",
    "results_df = define_gargaml_scores(results_df_measures, directed=directed, score_type=score_type)\n",
    "\n",
    "transactions_df_extended, pattern_columns = define_ML_labels(\n",
    "    path_trans = \"data/\"+dataset+\"_Trans.csv\",\n",
    "    path_patterns = \"data/\"+dataset+\"_Patterns.txt\"\n",
    ")\n",
    "\n",
    "laundering_combined, _, _ = summarise_ML_labels(transactions_df_extended,pattern_columns)"
   ]
  },
  {
   "cell_type": "code",
   "execution_count": null,
   "metadata": {},
   "outputs": [],
   "source": [
    "from_data = transactions_df_extended[[\"Account\", \"From Bank\"]].drop_duplicates()\n",
    "from_data.columns = [\"Account\", \"Bank\"]\n",
    "to_data = transactions_df_extended[[\"Account.1\", \"To Bank\"]].drop_duplicates()\n",
    "to_data.columns = [\"Account\", \"Bank\"]\n",
    "total_data = pd.concat([from_data, to_data], axis=0).drop_duplicates()\n",
    "total_data.shape"
   ]
  },
  {
   "cell_type": "markdown",
   "metadata": {},
   "source": [
    "## Single Analysis\n",
    "This part is used to illustrate the code on one example, using a single column and a cut-off for the labels. "
   ]
  },
  {
   "cell_type": "code",
   "execution_count": null,
   "metadata": {},
   "outputs": [],
   "source": [
    "column = \"SCATTER-GATHER\"\n",
    "laundering_combined[[column]].hist(log=True)"
   ]
  },
  {
   "cell_type": "code",
   "execution_count": null,
   "metadata": {},
   "outputs": [],
   "source": [
    "cutoff = 0.2\n",
    "laundering_combined[\"Label\"] = ((laundering_combined[column]>cutoff)*1).values\n",
    "\n",
    "labels = []\n",
    "for node in results_df.index:\n",
    "    label = int(laundering_combined.loc[node][\"Label\"])\n",
    "    labels.append(label)\n",
    "\n",
    "results_df[\"Label\"] = labels"
   ]
  },
  {
   "cell_type": "code",
   "execution_count": null,
   "metadata": {},
   "outputs": [],
   "source": [
    "import matplotlib.pyplot as plt\n",
    "import numpy as np\n",
    "\n",
    "# Filter the DataFrame by label\n",
    "label_0 = results_df[results_df[\"Label\"] == 0][\"GARGAML\"]\n",
    "label_1 = results_df[results_df[\"Label\"] == 1][\"GARGAML\"]\n",
    "\n",
    "# Calculate the bin edges\n",
    "all_data = np.concatenate([label_0, label_1])\n",
    "bins = np.histogram_bin_edges(all_data, bins=20)\n",
    "\n",
    "# Plot histograms\n",
    "plt.figure(figsize=(10, 5))\n",
    "\n",
    "# Plot histogram for label 0\n",
    "plt.hist(label_0, bins=bins, alpha=0.5, label='Label 0', density=True)\n",
    "\n",
    "# Plot histogram for label 1\n",
    "plt.hist(label_1, bins=bins, alpha=0.5, label='Label 1', density=True)\n",
    "\n",
    "# Add labels and title\n",
    "plt.xlabel('GARGAML')\n",
    "plt.ylabel('Relative Frequency')\n",
    "plt.title('Distribution of GARGAML Scores by Label: \"'+ column +'\" at cut-off '+ str(cutoff))\n",
    "plt.legend()\n",
    "\n",
    "# Show plot\n",
    "plt.savefig(\"results/\"+dataset+\"_GARGAML_\"+str_directed+\"_histogram_\"+str(int(cutoff*100))+\".pdf\")"
   ]
  },
  {
   "cell_type": "code",
   "execution_count": null,
   "metadata": {},
   "outputs": [],
   "source": [
    "# Divergence measure\n",
    "mean_0 = np.mean(label_0)\n",
    "variance_0 = np.var(label_0)\n",
    "mean_1 = np.mean(label_1)\n",
    "variance_1 = np.var(label_1)\n",
    "\n",
    "divergence = (mean_0 - mean_1)**2 + 0.5*(variance_0 + variance_1)\n",
    "\n",
    "print(\"Divergence measure: \", divergence)"
   ]
  },
  {
   "cell_type": "code",
   "execution_count": null,
   "metadata": {},
   "outputs": [],
   "source": [
    "def lift_curve_values(y_val, y_pred, steps):\n",
    "    vals_lift = [] #The lift values to be plotted\n",
    "\n",
    "    df_lift = pd.DataFrame()\n",
    "    df_lift['Real'] = y_val\n",
    "    df_lift['Pred'] = y_pred\n",
    "    df_lift.sort_values('Pred',\n",
    "                        ascending=False,\n",
    "                        inplace=True)\n",
    "\n",
    "    global_ratio = df_lift['Real'].sum() / len(df_lift['Real'])\n",
    "\n",
    "    for step in steps:\n",
    "        data_len = int(np.ceil(step*len(df_lift)))\n",
    "        data_lift = df_lift.iloc[:data_len, :]\n",
    "        val_lift = data_lift['Real'].sum()/data_len\n",
    "        vals_lift.append(val_lift/global_ratio)\n",
    "\n",
    "    return(vals_lift)"
   ]
  },
  {
   "cell_type": "code",
   "execution_count": null,
   "metadata": {},
   "outputs": [],
   "source": [
    "values = np.linspace(0.01, 1, 100)\n",
    "lift = lift_curve_values(results_df[\"Label\"], results_df[\"GARGAML\"], values)\n",
    "plt.plot(values, lift)\n",
    "plt.title('Lift curve of GARGAML Scores by Label: \"'+ column +'\" at cut-off '+ str(cutoff))\n",
    "plt.xlabel('Proportion of data')\n",
    "plt.ylabel('Lift')\n",
    "plt.savefig(\"results/\"+dataset+\"_GARGAML_\"+str_directed+\"_lift_curve_\"+str(int(cutoff*100))+\".pdf\")"
   ]
  },
  {
   "cell_type": "markdown",
   "metadata": {},
   "source": [
    "## Multiple Results\n",
    "This part of the code will reproduce the code above to obtain a matrix of plots and results illustrating the effect accross columns and cut-off points. "
   ]
  },
  {
   "cell_type": "code",
   "execution_count": null,
   "metadata": {},
   "outputs": [],
   "source": [
    "import matplotlib.pyplot as plt\n",
    "import numpy as np\n",
    "\n",
    "cut_offs = [0.1, 0.2, 0.3, 0.5, 0.9]\n",
    "columns = ['Is Laundering', 'FAN-OUT', 'FAN-IN', 'GATHER-SCATTER', 'SCATTER-GATHER', 'CYCLE', 'RANDOM', 'BIPARTITE', 'STACK']"
   ]
  },
  {
   "cell_type": "code",
   "execution_count": null,
   "metadata": {},
   "outputs": [],
   "source": [
    "def divergence_metric(dist_0, dist_1):\n",
    "    mean_0 = np.mean(dist_0)\n",
    "    variance_0 = np.var(dist_0)\n",
    "    mean_1 = np.mean(dist_1)\n",
    "    variance_1 = np.var(dist_1)\n",
    "    return (mean_0 - mean_1)**2 + 0.5*(variance_0 + variance_1)"
   ]
  },
  {
   "cell_type": "code",
   "execution_count": null,
   "metadata": {},
   "outputs": [],
   "source": [
    "n = len(cut_offs)\n",
    "m = len(columns)\n",
    "\n",
    "divergence_matrix = np.zeros((n, m))\n",
    "\n",
    "fig, axes = plt.subplots(n, m, figsize = (n*5, m))\n",
    "\n",
    "for i in range(n):\n",
    "    cut_off = cut_offs[i]\n",
    "    for j in range(m):\n",
    "        column = columns[j]\n",
    "\n",
    "        laundering_combined[\"Label\"] = ((laundering_combined[column]>cut_off)*1).values\n",
    "\n",
    "        labels = []\n",
    "        for node in results_df.index:\n",
    "            label = int(laundering_combined.loc[node][\"Label\"])\n",
    "            labels.append(label)\n",
    "\n",
    "        results_df[\"Label\"] = labels\n",
    "    \n",
    "        # Filter the DataFrame by label\n",
    "        label_0 = results_df[results_df[\"Label\"] == 0][\"GARGAML\"]\n",
    "        label_1 = results_df[results_df[\"Label\"] == 1][\"GARGAML\"]\n",
    "\n",
    "        # Calculate the bin edges\n",
    "        all_data = np.concatenate([label_0, label_1])\n",
    "        bins = np.histogram_bin_edges(all_data, bins=20)\n",
    "\n",
    "        # Plot histogram for label 0\n",
    "        axes[i, j].hist(label_0, bins=bins, alpha=0.5, label='Label 0', density=True)\n",
    "\n",
    "        # Plot histogram for label 1\n",
    "        axes[i, j].hist(label_1, bins=bins, alpha=0.5, label='Label 1', density=True)\n",
    "\n",
    "        # Add labels and title\n",
    "        #axes[i, j].set_xlabel('GARGAML')\n",
    "        #axes[i, j].set_ylabel('Relative Frequency')\n",
    "        #axes[i, j].set_title('Label: \"'+ column +'\" at '+ str(cut_off))\n",
    "        #axes[i, j].legend()\n",
    "\n",
    "        divergence = divergence_metric(label_0, label_1)\n",
    "        divergence_matrix[i, j] = divergence\n",
    "\n",
    "divergence_df = pd.DataFrame(divergence_matrix, columns=columns, index=cut_offs)\n",
    "divergence_df.to_csv(\"results/\"+dataset+\"_GARGAML_\"+str_directed+\"_combined_divergence.csv\")\n",
    "\n",
    "for axis, col in zip(axes[0], columns):\n",
    "    axis.set_title(col)\n",
    "\n",
    "for axis, row in zip(axes[:,0], cut_offs):\n",
    "    axis.set_ylabel(row, size='large')\n",
    "\n",
    "fig.suptitle('Distribution of '+ str_directed +' GARGAML Scores by Label for data set: '+ dataset)\n",
    "fig.tight_layout()\n",
    "\n",
    "plt.savefig(\"results/\"+dataset+\"_GARGAML_\"+str_directed+\"_combined_histogram.pdf\")"
   ]
  },
  {
   "cell_type": "code",
   "execution_count": null,
   "metadata": {},
   "outputs": [],
   "source": [
    "n = len(cut_offs)\n",
    "m = len(columns)\n",
    "\n",
    "fig, axes = plt.subplots(n, m, figsize = (n*5, m))\n",
    "values = np.linspace(0.01, 1, 100)\n",
    "\n",
    "for i in range(n):\n",
    "    cut_off = cut_offs[i]\n",
    "    for j in range(m):\n",
    "        column = columns[j]\n",
    "\n",
    "        laundering_combined[\"Label\"] = ((laundering_combined[column]>cut_off)*1).values\n",
    "\n",
    "        labels = []\n",
    "        for node in results_df.index:\n",
    "            label = int(laundering_combined.loc[node][\"Label\"])\n",
    "            labels.append(label)\n",
    "\n",
    "        results_df[\"Label\"] = labels\n",
    "    \n",
    "        lift = lift_curve_values(results_df[\"Label\"], results_df[\"GARGAML\"], values)\n",
    "\n",
    "        axes[i, j].plot(values, lift)\n",
    "\n",
    "for axis, col in zip(axes[0], columns):\n",
    "    axis.set_title(col)\n",
    "\n",
    "for axis, row in zip(axes[:,0], cut_offs):\n",
    "    axis.set_ylabel(row, size='large')\n",
    "\n",
    "fig.suptitle('Lift curve of '+ str_directed +' GARGAML Scores by Label for data set: '+ dataset)\n",
    "fig.tight_layout()\n",
    "\n",
    "plt.savefig(\"results/\"+dataset+\"_GARGAML_\"+str_directed+\"_combined_lift.pdf\")"
   ]
  },
  {
   "cell_type": "markdown",
   "metadata": {},
   "source": [
    "## Divergence"
   ]
  },
  {
   "cell_type": "code",
   "execution_count": 1,
   "metadata": {},
   "outputs": [],
   "source": [
    "import os\n",
    "import sys\n",
    "\n",
    "DIR = \"../\"\n",
    "os.chdir(DIR)\n",
    "sys.path.append(DIR)"
   ]
  },
  {
   "cell_type": "code",
   "execution_count": 2,
   "metadata": {},
   "outputs": [],
   "source": [
    "import seaborn as sns\n",
    "import matplotlib.pylab as plt\n",
    "import pandas as pd"
   ]
  },
  {
   "cell_type": "code",
   "execution_count": 3,
   "metadata": {},
   "outputs": [],
   "source": [
    "dataset = \"HI-Small\"  \n",
    "directed = False\n",
    "str_directed = \"directed\" if directed else \"undirected\"\n",
    "score_type = \"basic\""
   ]
  },
  {
   "cell_type": "code",
   "execution_count": 4,
   "metadata": {},
   "outputs": [],
   "source": [
    "cut_offs = [0.1, 0.2, 0.3, 0.5, 0.9]\n",
    "columns = ['Is Laundering', 'FAN-OUT', 'FAN-IN', 'GATHER-SCATTER', 'SCATTER-GATHER', 'CYCLE', 'RANDOM', 'BIPARTITE', 'STACK']"
   ]
  },
  {
   "cell_type": "code",
   "execution_count": 5,
   "metadata": {},
   "outputs": [],
   "source": [
    "divergence = pd.read_csv(\"results/\"+dataset+\"_GARGAML_\"+str_directed+\"_combined_divergence.csv\", index_col=0)"
   ]
  },
  {
   "cell_type": "code",
   "execution_count": null,
   "metadata": {},
   "outputs": [],
   "source": [
    "with sns.axes_style(\"white\"):\n",
    "    ax = sns.heatmap(divergence, cmap=\"YlGnBu\", annot=True, fmt=\".2f\")\n",
    "    plt.ylabel('Cut-off')\n",
    "    plt.xlabel('Pattern')\n",
    "    plt.tight_layout()\n",
    "    plt.show()"
   ]
  },
  {
   "cell_type": "code",
   "execution_count": 8,
   "metadata": {},
   "outputs": [],
   "source": [
    "datasets = [\"HI-Small\", \"LI-Large\"]\n",
    "directeds = [False, True]\n",
    "\n",
    "for dataset in datasets:\n",
    "    for directed in directeds:\n",
    "        str_directed = \"directed\" if directed else \"undirected\"\n",
    "        score_type = \"basic\"\n",
    "\n",
    "        divergence = pd.read_csv(\"results/\"+dataset+\"_GARGAML_\"+str_directed+\"_combined_divergence.csv\", index_col=0)\n",
    "\n",
    "        with sns.axes_style(\"white\"):\n",
    "            ax = sns.heatmap(divergence, cmap=\"YlGnBu\", annot=True, fmt=\".2f\")\n",
    "            plt.title(\"Divergence metric of \"+ str_directed +\" GARGAML Scores for data set: \"+ dataset)\n",
    "            plt.ylabel('Cut-off')\n",
    "            plt.xlabel('Pattern')\n",
    "            plt.tight_layout()\n",
    "            plt.savefig(\"results/\"+dataset+\"_\"+str_directed+\"_divergence_heatmap.pdf\")\n",
    "            plt.close()\n",
    "        "
   ]
  },
  {
   "cell_type": "markdown",
   "metadata": {},
   "source": [
    "# Performance Metrics"
   ]
  },
  {
   "cell_type": "markdown",
   "metadata": {},
   "source": [
    "This part of this notebook deals with the tree-based models. Below, we load the performance metrics as calculated by `gargaml_tree.py` and plot the results in a heat map."
   ]
  },
  {
   "cell_type": "code",
   "execution_count": 1,
   "metadata": {},
   "outputs": [],
   "source": [
    "import os\n",
    "import sys\n",
    "\n",
    "DIR = \"../\"\n",
    "os.chdir(DIR)\n",
    "sys.path.append(DIR)"
   ]
  },
  {
   "cell_type": "code",
   "execution_count": 2,
   "metadata": {},
   "outputs": [],
   "source": [
    "import seaborn as sns\n",
    "import matplotlib.pylab as plt\n",
    "import pandas as pd"
   ]
  },
  {
   "cell_type": "code",
   "execution_count": 8,
   "metadata": {},
   "outputs": [],
   "source": [
    "dataset = \"LI-Large\"  \n",
    "directed = True\n",
    "str_directed = \"directed\" if directed else \"undirected\"\n",
    "score_type = \"basic\""
   ]
  },
  {
   "cell_type": "code",
   "execution_count": 9,
   "metadata": {},
   "outputs": [],
   "source": [
    "metrics = pd.read_csv(\"results/\"+dataset+\"_imbalance_\"+str_directed+\"_combined.csv\", index_col=0)\n",
    "metrics_p = metrics*100"
   ]
  },
  {
   "cell_type": "code",
   "execution_count": null,
   "metadata": {},
   "outputs": [],
   "source": [
    "with sns.axes_style(\"white\"):\n",
    "    ax = sns.heatmap(metrics_p, cmap=\"YlGnBu\", annot=True, fmt=\".2f\")\n",
    "    plt.ylabel('Cut-off')\n",
    "    plt.xlabel('Pattern')\n",
    "    plt.tight_layout()\n",
    "    plt.show()"
   ]
  },
  {
   "cell_type": "code",
   "execution_count": null,
   "metadata": {},
   "outputs": [],
   "source": [
    "print(metrics_p.T.to_latex())"
   ]
  },
  {
   "cell_type": "code",
   "execution_count": 11,
   "metadata": {},
   "outputs": [],
   "source": [
    "models = [\"AUC_ROC_tree\", \"AUC_PR_tree\", \"AUC_ROC_boosting\", \"AUC_PR_boosting\"]\n",
    "\n",
    "for model in models: \n",
    "    metrics = pd.read_csv(\"results/\"+dataset+\"_\"+model+\"_\"+str_directed+\"_combined.csv\", index_col=0)\n",
    "    metrics_p = metrics*100\n",
    "\n",
    "    model_split = model.split(\"_\")\n",
    "\n",
    "    with sns.axes_style(\"white\"):\n",
    "        ax = sns.heatmap(metrics_p, cmap=\"YlGnBu\", annot=True, fmt=\".2f\",  \n",
    "                         cbar_kws={'label': model_split[0]+\"-\"+model_split[1]})\n",
    "        ax.set_xticklabels(ax.get_xticklabels(), rotation=70)\n",
    "        title_string = \"Gradient boosting\" if model_split[2] == \"boosting\" else \"Decision tree\"\n",
    "        plt.title(title_string)\n",
    "        plt.ylabel('Cut-off')\n",
    "        plt.xlabel('Pattern')\n",
    "        plt.tight_layout()\n",
    "        plt.savefig(\"results/\"+dataset+\"_\"+model+\"_\"+str_directed+\"_heatmap.pdf\")\n",
    "        plt.close()"
   ]
  },
  {
   "cell_type": "code",
   "execution_count": null,
   "metadata": {},
   "outputs": [],
   "source": []
  }
 ],
 "metadata": {
  "kernelspec": {
   "display_name": "base",
   "language": "python",
   "name": "python3"
  },
  "language_info": {
   "codemirror_mode": {
    "name": "ipython",
    "version": 3
   },
   "file_extension": ".py",
   "mimetype": "text/x-python",
   "name": "python",
   "nbconvert_exporter": "python",
   "pygments_lexer": "ipython3",
   "version": "3.11.0"
  }
 },
 "nbformat": 4,
 "nbformat_minor": 2
}
