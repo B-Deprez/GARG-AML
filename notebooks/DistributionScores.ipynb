{
 "cells": [
  {
   "cell_type": "code",
   "execution_count": null,
   "metadata": {},
   "outputs": [],
   "source": [
    "# LOAD MODULES\n",
    "# Standard library\n",
    "import os\n",
    "import sys\n",
    "\n",
    "# Third party\n",
    "from tqdm import tqdm\n",
    "\n",
    "# NOTE: Your script is not in the root directory. We must hence change the system path\n",
    "DIR = \"../\"\n",
    "os.chdir(DIR)\n",
    "sys.path.append(DIR)"
   ]
  },
  {
   "cell_type": "code",
   "execution_count": null,
   "metadata": {},
   "outputs": [],
   "source": [
    "from src.data.pattern_construction import define_ML_labels, summarise_ML_labels\n",
    "from src.methods.gargaml_scores import define_gargaml_scores\n",
    "import pandas as pd"
   ]
  },
  {
   "cell_type": "code",
   "execution_count": null,
   "metadata": {},
   "outputs": [],
   "source": [
    "dataset = \"HI-Small\"  \n",
    "directed = False\n",
    "score_type = \"basic\" # basic or weighted_average\n",
    "\n",
    "str_directed = \"directed\" if directed else \"undirected\"\n",
    "results_df_measures = pd.read_csv(\"results/\"+dataset+\"_GARGAML_\"+str_directed+\".csv\")\n",
    "\n",
    "results_df = define_gargaml_scores(results_df_measures, directed=directed, score_type=score_type)\n",
    "\n",
    "transactions_df_extended, pattern_columns = define_ML_labels(\n",
    "    path_trans = \"data/\"+dataset+\"_Trans.csv\",\n",
    "    path_patterns = \"data/\"+dataset+\"_Patterns.txt\"\n",
    ")\n",
    "\n",
    "laundering_combined, _, _ = summarise_ML_labels(transactions_df_extended,pattern_columns)"
   ]
  },
  {
   "cell_type": "code",
   "execution_count": null,
   "metadata": {},
   "outputs": [],
   "source": [
    "from_data = transactions_df_extended[[\"Account\", \"From Bank\"]].drop_duplicates()\n",
    "from_data.columns = [\"Account\", \"Bank\"]\n",
    "to_data = transactions_df_extended[[\"Account.1\", \"To Bank\"]].drop_duplicates()\n",
    "to_data.columns = [\"Account\", \"Bank\"]\n",
    "total_data = pd.concat([from_data, to_data], axis=0).drop_duplicates()\n",
    "total_data.shape"
   ]
  },
  {
   "cell_type": "code",
   "execution_count": null,
   "metadata": {},
   "outputs": [],
   "source": [
    "column = \"Is Laundering\"\n",
    "laundering_combined[[column]].hist(log=True)"
   ]
  },
  {
   "cell_type": "code",
   "execution_count": null,
   "metadata": {},
   "outputs": [],
   "source": [
    "cutoff = 0.2\n",
    "laundering_combined[\"Label\"] = ((laundering_combined[column]>cutoff)*1).values\n",
    "\n",
    "labels = []\n",
    "for node in results_df.index:\n",
    "    label = int(laundering_combined.loc[node][\"Label\"])\n",
    "    labels.append(label)\n",
    "\n",
    "results_df[\"Label\"] = labels"
   ]
  },
  {
   "cell_type": "code",
   "execution_count": null,
   "metadata": {},
   "outputs": [],
   "source": [
    "import matplotlib.pyplot as plt\n",
    "import numpy as np\n",
    "\n",
    "# Filter the DataFrame by label\n",
    "label_0 = results_df[results_df[\"Label\"] == 0][\"GARGAML\"]\n",
    "label_1 = results_df[results_df[\"Label\"] == 1][\"GARGAML\"]\n",
    "\n",
    "# Calculate the bin edges\n",
    "all_data = np.concatenate([label_0, label_1])\n",
    "bins = np.histogram_bin_edges(all_data, bins=20)\n",
    "\n",
    "# Plot histograms\n",
    "plt.figure(figsize=(10, 5))\n",
    "\n",
    "# Plot histogram for label 0\n",
    "plt.hist(label_0, bins=bins, alpha=0.5, label='Label 0', density=True)\n",
    "\n",
    "# Plot histogram for label 1\n",
    "plt.hist(label_1, bins=bins, alpha=0.5, label='Label 1', density=True)\n",
    "\n",
    "# Add labels and title\n",
    "plt.xlabel('GARGAML')\n",
    "plt.ylabel('Relative Frequency')\n",
    "plt.title('Distribution of GARGAML Scores by Label: \"'+ column +'\" at cut-off '+ str(cutoff))\n",
    "plt.legend()\n",
    "\n",
    "# Show plot\n",
    "plt.savefig(\"results/\"+dataset+\"_GARGAML_\"+str_directed+\"_histogram_\"+str(int(cutoff*100))+\".pdf\")"
   ]
  },
  {
   "cell_type": "code",
   "execution_count": null,
   "metadata": {},
   "outputs": [],
   "source": [
    "# Divergence measure\n",
    "mean_0 = np.mean(label_0)\n",
    "variance_0 = np.var(label_0)\n",
    "mean_1 = np.mean(label_1)\n",
    "variance_1 = np.var(label_1)\n",
    "\n",
    "divergence = (mean_0 - mean_1)**2 + 0.5*(variance_0 + variance_1)\n",
    "\n",
    "print(\"Divergence measure: \", divergence)"
   ]
  },
  {
   "cell_type": "code",
   "execution_count": null,
   "metadata": {},
   "outputs": [],
   "source": [
    "def lift_curve_values(y_val, y_pred, steps):\n",
    "    vals_lift = [] #The lift values to be plotted\n",
    "\n",
    "    df_lift = pd.DataFrame()\n",
    "    df_lift['Real'] = y_val\n",
    "    df_lift['Pred'] = y_pred\n",
    "    df_lift.sort_values('Pred',\n",
    "                        ascending=False,\n",
    "                        inplace=True)\n",
    "\n",
    "    global_ratio = df_lift['Real'].sum() / len(df_lift['Real'])\n",
    "\n",
    "    for step in steps:\n",
    "        data_len = int(np.ceil(step*len(df_lift)))\n",
    "        data_lift = df_lift.iloc[:data_len, :]\n",
    "        val_lift = data_lift['Real'].sum()/data_len\n",
    "        vals_lift.append(val_lift/global_ratio)\n",
    "\n",
    "    return(vals_lift)"
   ]
  },
  {
   "cell_type": "code",
   "execution_count": null,
   "metadata": {},
   "outputs": [],
   "source": [
    "values = np.linspace(0.01, 1, 100)\n",
    "lift = lift_curve_values(results_df[\"Label\"], results_df[\"GARGAML\"], values)\n",
    "plt.plot(values, lift)\n",
    "plt.title('Lift curve of GARGAML Scores by Label: \"'+ column +'\" at cut-off '+ str(cutoff))\n",
    "plt.xlabel('Proportion of data')\n",
    "plt.ylabel('Lift')\n",
    "plt.savefig(\"results/\"+dataset+\"_GARGAML_\"+str_directed+\"_lift_curve_\"+str(int(cutoff*100))+\".pdf\")"
   ]
  },
  {
   "cell_type": "code",
   "execution_count": null,
   "metadata": {},
   "outputs": [],
   "source": []
  }
 ],
 "metadata": {
  "kernelspec": {
   "display_name": "base",
   "language": "python",
   "name": "python3"
  },
  "language_info": {
   "codemirror_mode": {
    "name": "ipython",
    "version": 3
   },
   "file_extension": ".py",
   "mimetype": "text/x-python",
   "name": "python",
   "nbconvert_exporter": "python",
   "pygments_lexer": "ipython3",
   "version": "3.11.0"
  }
 },
 "nbformat": 4,
 "nbformat_minor": 2
}
